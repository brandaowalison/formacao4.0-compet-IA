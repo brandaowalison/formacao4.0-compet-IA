{
 "cells": [
  {
   "cell_type": "markdown",
   "id": "8b188d68",
   "metadata": {},
   "source": [
    "**Aula Prática** Coleta de Dados"
   ]
  },
  {
   "cell_type": "markdown",
   "id": "d219e549",
   "metadata": {},
   "source": [
    "##### Primeiro passo: Coletar os dados"
   ]
  },
  {
   "cell_type": "markdown",
   "id": "fefb8613",
   "metadata": {},
   "source": [
    "Os dados foram obtidos pela plataforma [Kaggle](https://www.kaggle.com/datasets/sahideseker/wine-quality-classification).\n",
    "\n",
    "Este conjunto de dados contém **1.000 amostras sintéticas de vinho**, cada uma descrita por quatro características químicas principais:  \n",
    "- **Acidez fixa**  \n",
    "- **Açúcar residual**  \n",
    "- **Teor alcoólico**  \n",
    "- **Densidade**  \n",
    "\n",
    "Cada amostra é rotulada com uma **classe de qualidade do vinho** (**baixa, média ou alta**) com base em um sistema de pontuação de qualidade simulado.\n",
    "\n",
    "Objetivo: **Classificação (predição)** da qualidade do vinho com base em suas características químicas.  \n",
    "O intuito do modelo será prever se um vinho pertence à categoria **baixa, média ou alta qualidade**, ajudando na análise de padrões que influenciam a percepção da qualidade."
   ]
  },
  {
   "cell_type": "code",
   "execution_count": 1,
   "id": "f29a3440",
   "metadata": {},
   "outputs": [
    {
     "data": {
      "application/vnd.microsoft.datawrangler.viewer.v0+json": {
       "columns": [
        {
         "name": "index",
         "rawType": "int64",
         "type": "integer"
        },
        {
         "name": "fixed_acidity",
         "rawType": "float64",
         "type": "float"
        },
        {
         "name": "residual_sugar",
         "rawType": "float64",
         "type": "float"
        },
        {
         "name": "alcohol",
         "rawType": "float64",
         "type": "float"
        },
        {
         "name": "density",
         "rawType": "float64",
         "type": "float"
        },
        {
         "name": "quality_label",
         "rawType": "object",
         "type": "string"
        }
       ],
       "ref": "fcdb939d-bb95-47b9-b35d-835a4285aa1e",
       "rows": [
        [
         "0",
         "9.3",
         "6.4",
         "13.6",
         "1.0005",
         "high"
        ],
        [
         "1",
         "11.2",
         "2.0",
         "14.0",
         "0.9912",
         "medium"
        ],
        [
         "2",
         "11.6",
         "0.9",
         "8.2",
         "0.9935",
         "low"
        ],
        [
         "3",
         "12.9",
         "6.6",
         "12.7",
         "1.0002",
         "low"
        ],
        [
         "4",
         "13.9",
         "13.8",
         "10.4",
         "0.9942",
         "medium"
        ]
       ],
       "shape": {
        "columns": 5,
        "rows": 5
       }
      },
      "text/html": [
       "<div>\n",
       "<style scoped>\n",
       "    .dataframe tbody tr th:only-of-type {\n",
       "        vertical-align: middle;\n",
       "    }\n",
       "\n",
       "    .dataframe tbody tr th {\n",
       "        vertical-align: top;\n",
       "    }\n",
       "\n",
       "    .dataframe thead th {\n",
       "        text-align: right;\n",
       "    }\n",
       "</style>\n",
       "<table border=\"1\" class=\"dataframe\">\n",
       "  <thead>\n",
       "    <tr style=\"text-align: right;\">\n",
       "      <th></th>\n",
       "      <th>fixed_acidity</th>\n",
       "      <th>residual_sugar</th>\n",
       "      <th>alcohol</th>\n",
       "      <th>density</th>\n",
       "      <th>quality_label</th>\n",
       "    </tr>\n",
       "  </thead>\n",
       "  <tbody>\n",
       "    <tr>\n",
       "      <th>0</th>\n",
       "      <td>9.3</td>\n",
       "      <td>6.4</td>\n",
       "      <td>13.6</td>\n",
       "      <td>1.0005</td>\n",
       "      <td>high</td>\n",
       "    </tr>\n",
       "    <tr>\n",
       "      <th>1</th>\n",
       "      <td>11.2</td>\n",
       "      <td>2.0</td>\n",
       "      <td>14.0</td>\n",
       "      <td>0.9912</td>\n",
       "      <td>medium</td>\n",
       "    </tr>\n",
       "    <tr>\n",
       "      <th>2</th>\n",
       "      <td>11.6</td>\n",
       "      <td>0.9</td>\n",
       "      <td>8.2</td>\n",
       "      <td>0.9935</td>\n",
       "      <td>low</td>\n",
       "    </tr>\n",
       "    <tr>\n",
       "      <th>3</th>\n",
       "      <td>12.9</td>\n",
       "      <td>6.6</td>\n",
       "      <td>12.7</td>\n",
       "      <td>1.0002</td>\n",
       "      <td>low</td>\n",
       "    </tr>\n",
       "    <tr>\n",
       "      <th>4</th>\n",
       "      <td>13.9</td>\n",
       "      <td>13.8</td>\n",
       "      <td>10.4</td>\n",
       "      <td>0.9942</td>\n",
       "      <td>medium</td>\n",
       "    </tr>\n",
       "  </tbody>\n",
       "</table>\n",
       "</div>"
      ],
      "text/plain": [
       "   fixed_acidity  residual_sugar  alcohol  density quality_label\n",
       "0            9.3             6.4     13.6   1.0005          high\n",
       "1           11.2             2.0     14.0   0.9912        medium\n",
       "2           11.6             0.9      8.2   0.9935           low\n",
       "3           12.9             6.6     12.7   1.0002           low\n",
       "4           13.9            13.8     10.4   0.9942        medium"
      ]
     },
     "execution_count": 1,
     "metadata": {},
     "output_type": "execute_result"
    }
   ],
   "source": [
    "import pandas as pd\n",
    "\n",
    "# Lendo o arquivo csv principal\n",
    "df = pd.read_csv(\"../dados/dados_origem.csv\")\n",
    "\n",
    "# Vizualizando as primeiras linhas\n",
    "df.head()"
   ]
  },
  {
   "cell_type": "markdown",
   "id": "db9e4b56",
   "metadata": {},
   "source": [
    "Com base na descrição fornecida pelo autor, vou renomear as colunas para facilitar o entendimento."
   ]
  },
  {
   "cell_type": "markdown",
   "id": "cc43f1d1",
   "metadata": {},
   "source": [
    "1. fixed_acidity: Nível de acidez fixa\n",
    "2. residual_sugar: Nível de açúcar após a fermentação\n",
    "3. álcool: Teor alcoólico (%)\n",
    "4. densidade: Densidade do líquido\n",
    "5. rótulo_de_qualidade: Classe de qualidade do vinho (baixa / média / alta)"
   ]
  },
  {
   "cell_type": "code",
   "execution_count": 3,
   "id": "8bdf27bd",
   "metadata": {},
   "outputs": [
    {
     "data": {
      "application/vnd.microsoft.datawrangler.viewer.v0+json": {
       "columns": [
        {
         "name": "index",
         "rawType": "int64",
         "type": "integer"
        },
        {
         "name": "acidez_fixa",
         "rawType": "float64",
         "type": "float"
        },
        {
         "name": "acucar_residual",
         "rawType": "float64",
         "type": "float"
        },
        {
         "name": "alcool",
         "rawType": "float64",
         "type": "float"
        },
        {
         "name": "densidade",
         "rawType": "float64",
         "type": "float"
        },
        {
         "name": "rotulo_qualidade",
         "rawType": "object",
         "type": "string"
        }
       ],
       "ref": "d9ff5176-f210-4713-9a0c-193852497f21",
       "rows": [
        [
         "0",
         "9.3",
         "6.4",
         "13.6",
         "1.0005",
         "high"
        ],
        [
         "1",
         "11.2",
         "2.0",
         "14.0",
         "0.9912",
         "medium"
        ],
        [
         "2",
         "11.6",
         "0.9",
         "8.2",
         "0.9935",
         "low"
        ],
        [
         "3",
         "12.9",
         "6.6",
         "12.7",
         "1.0002",
         "low"
        ],
        [
         "4",
         "13.9",
         "13.8",
         "10.4",
         "0.9942",
         "medium"
        ]
       ],
       "shape": {
        "columns": 5,
        "rows": 5
       }
      },
      "text/html": [
       "<div>\n",
       "<style scoped>\n",
       "    .dataframe tbody tr th:only-of-type {\n",
       "        vertical-align: middle;\n",
       "    }\n",
       "\n",
       "    .dataframe tbody tr th {\n",
       "        vertical-align: top;\n",
       "    }\n",
       "\n",
       "    .dataframe thead th {\n",
       "        text-align: right;\n",
       "    }\n",
       "</style>\n",
       "<table border=\"1\" class=\"dataframe\">\n",
       "  <thead>\n",
       "    <tr style=\"text-align: right;\">\n",
       "      <th></th>\n",
       "      <th>acidez_fixa</th>\n",
       "      <th>acucar_residual</th>\n",
       "      <th>alcool</th>\n",
       "      <th>densidade</th>\n",
       "      <th>rotulo_qualidade</th>\n",
       "    </tr>\n",
       "  </thead>\n",
       "  <tbody>\n",
       "    <tr>\n",
       "      <th>0</th>\n",
       "      <td>9.3</td>\n",
       "      <td>6.4</td>\n",
       "      <td>13.6</td>\n",
       "      <td>1.0005</td>\n",
       "      <td>high</td>\n",
       "    </tr>\n",
       "    <tr>\n",
       "      <th>1</th>\n",
       "      <td>11.2</td>\n",
       "      <td>2.0</td>\n",
       "      <td>14.0</td>\n",
       "      <td>0.9912</td>\n",
       "      <td>medium</td>\n",
       "    </tr>\n",
       "    <tr>\n",
       "      <th>2</th>\n",
       "      <td>11.6</td>\n",
       "      <td>0.9</td>\n",
       "      <td>8.2</td>\n",
       "      <td>0.9935</td>\n",
       "      <td>low</td>\n",
       "    </tr>\n",
       "    <tr>\n",
       "      <th>3</th>\n",
       "      <td>12.9</td>\n",
       "      <td>6.6</td>\n",
       "      <td>12.7</td>\n",
       "      <td>1.0002</td>\n",
       "      <td>low</td>\n",
       "    </tr>\n",
       "    <tr>\n",
       "      <th>4</th>\n",
       "      <td>13.9</td>\n",
       "      <td>13.8</td>\n",
       "      <td>10.4</td>\n",
       "      <td>0.9942</td>\n",
       "      <td>medium</td>\n",
       "    </tr>\n",
       "  </tbody>\n",
       "</table>\n",
       "</div>"
      ],
      "text/plain": [
       "   acidez_fixa  acucar_residual  alcool  densidade rotulo_qualidade\n",
       "0          9.3              6.4    13.6     1.0005             high\n",
       "1         11.2              2.0    14.0     0.9912           medium\n",
       "2         11.6              0.9     8.2     0.9935              low\n",
       "3         12.9              6.6    12.7     1.0002              low\n",
       "4         13.9             13.8    10.4     0.9942           medium"
      ]
     },
     "execution_count": 3,
     "metadata": {},
     "output_type": "execute_result"
    }
   ],
   "source": [
    "# Dicionário de mapeamento (inglês para português simplificado)\n",
    "mapeamento_colunas = {\n",
    "    'fixed_acidity': 'acidez_fixa',\n",
    "    'residual_sugar': 'acucar_residual',\n",
    "    'alcohol': 'alcool',\n",
    "    'density': 'densidade',\n",
    "    'quality_label': 'rotulo_qualidade'\n",
    "}\n",
    "\n",
    "# Renomeando as colunas\n",
    "df = df.rename(columns=mapeamento_colunas)\n",
    "\n",
    "# Verificando as colunas renomeadas\n",
    "df.head()"
   ]
  },
  {
   "cell_type": "markdown",
   "id": "4ca293e1",
   "metadata": {},
   "source": [
    "##### Primeiro passo: Fazer algumas análises"
   ]
  },
  {
   "cell_type": "markdown",
   "id": "bea12492",
   "metadata": {},
   "source": [
    "Existe dados faltantes na minha base de dados?"
   ]
  },
  {
   "cell_type": "code",
   "execution_count": 4,
   "id": "3ab0db48",
   "metadata": {},
   "outputs": [
    {
     "name": "stdout",
     "output_type": "stream",
     "text": [
      "Dados faltantes por coluna:\n",
      "acidez_fixa         0\n",
      "acucar_residual     0\n",
      "alcool              0\n",
      "densidade           0\n",
      "rotulo_qualidade    0\n",
      "dtype: int64\n"
     ]
    }
   ],
   "source": [
    "# Verificar se existe algum dado faltante\n",
    "dados_faltantes = df.isna().sum()\n",
    "\n",
    "# Exibir os dados faltantes\n",
    "print(\"Dados faltantes por coluna:\")\n",
    "print(dados_faltantes)"
   ]
  },
  {
   "cell_type": "code",
   "execution_count": 5,
   "id": "e332189e",
   "metadata": {},
   "outputs": [
    {
     "name": "stdout",
     "output_type": "stream",
     "text": [
      "<class 'pandas.core.frame.DataFrame'>\n",
      "RangeIndex: 1000 entries, 0 to 999\n",
      "Data columns (total 5 columns):\n",
      " #   Column            Non-Null Count  Dtype  \n",
      "---  ------            --------------  -----  \n",
      " 0   acidez_fixa       1000 non-null   float64\n",
      " 1   acucar_residual   1000 non-null   float64\n",
      " 2   alcool            1000 non-null   float64\n",
      " 3   densidade         1000 non-null   float64\n",
      " 4   rotulo_qualidade  1000 non-null   object \n",
      "dtypes: float64(4), object(1)\n",
      "memory usage: 39.2+ KB\n"
     ]
    }
   ],
   "source": [
    "# Também podemos verificar os tipos de dados de cada coluna\n",
    "df.info()"
   ]
  },
  {
   "cell_type": "markdown",
   "id": "bf394b09",
   "metadata": {},
   "source": [
    "**Quais são os níveis e a distribuição de acidez fixa presentes nos vinhos?**\n",
    "\n",
    "- Vamos analisar a frequência de cada valor de acidez fixa na base de dados para entender melhor como essa característica está distribuída entre as amostras."
   ]
  },
  {
   "cell_type": "code",
   "execution_count": 9,
   "id": "00cadf2b",
   "metadata": {},
   "outputs": [
    {
     "name": "stdout",
     "output_type": "stream",
     "text": [
      "Distribuição dos níveis de acidez fixa:\n"
     ]
    },
    {
     "data": {
      "application/vnd.microsoft.datawrangler.viewer.v0+json": {
       "columns": [
        {
         "name": "acidez_fixa",
         "rawType": "float64",
         "type": "float"
        },
        {
         "name": "count",
         "rawType": "int64",
         "type": "integer"
        }
       ],
       "ref": "a5ccf515-e2a2-47bd-83d3-03b91a96a6ec",
       "rows": [
        [
         "15.6",
         "22"
        ],
        [
         "12.0",
         "18"
        ],
        [
         "13.8",
         "17"
        ],
        [
         "5.3",
         "16"
        ],
        [
         "15.1",
         "14"
        ],
        [
         "6.7",
         "14"
        ],
        [
         "11.3",
         "13"
        ],
        [
         "10.8",
         "13"
        ],
        [
         "7.8",
         "13"
        ],
        [
         "7.0",
         "13"
        ],
        [
         "7.6",
         "13"
        ],
        [
         "12.7",
         "12"
        ],
        [
         "14.4",
         "12"
        ],
        [
         "11.8",
         "12"
        ],
        [
         "11.7",
         "12"
        ],
        [
         "14.6",
         "12"
        ],
        [
         "4.8",
         "12"
        ],
        [
         "13.4",
         "12"
        ],
        [
         "5.1",
         "11"
        ],
        [
         "10.4",
         "11"
        ],
        [
         "7.5",
         "11"
        ],
        [
         "11.9",
         "11"
        ],
        [
         "13.9",
         "11"
        ],
        [
         "14.3",
         "11"
        ],
        [
         "10.6",
         "11"
        ],
        [
         "9.1",
         "11"
        ],
        [
         "14.2",
         "11"
        ],
        [
         "9.6",
         "11"
        ],
        [
         "11.1",
         "10"
        ],
        [
         "9.8",
         "10"
        ],
        [
         "15.4",
         "10"
        ],
        [
         "14.7",
         "10"
        ],
        [
         "4.7",
         "10"
        ],
        [
         "6.3",
         "10"
        ],
        [
         "11.4",
         "10"
        ],
        [
         "5.7",
         "10"
        ],
        [
         "15.5",
         "10"
        ],
        [
         "9.4",
         "10"
        ],
        [
         "10.7",
         "9"
        ],
        [
         "7.7",
         "9"
        ],
        [
         "13.1",
         "9"
        ],
        [
         "4.2",
         "9"
        ],
        [
         "5.6",
         "9"
        ],
        [
         "9.3",
         "9"
        ],
        [
         "11.6",
         "9"
        ],
        [
         "10.9",
         "9"
        ],
        [
         "15.2",
         "9"
        ],
        [
         "8.8",
         "9"
        ],
        [
         "12.2",
         "9"
        ],
        [
         "7.9",
         "9"
        ]
       ],
       "shape": {
        "columns": 1,
        "rows": 121
       }
      },
      "text/plain": [
       "acidez_fixa\n",
       "15.6    22\n",
       "12.0    18\n",
       "13.8    17\n",
       "5.3     16\n",
       "15.1    14\n",
       "        ..\n",
       "7.3      4\n",
       "12.4     3\n",
       "4.0      2\n",
       "14.9     2\n",
       "8.1      2\n",
       "Name: count, Length: 121, dtype: int64"
      ]
     },
     "execution_count": 9,
     "metadata": {},
     "output_type": "execute_result"
    }
   ],
   "source": [
    "print(\"Distribuição dos níveis de acidez fixa:\")\n",
    "df['acidez_fixa'].value_counts()"
   ]
  },
  {
   "cell_type": "markdown",
   "id": "049fcd4f",
   "metadata": {},
   "source": [
    "**Quais são os níveis e a distribuição de açúcar residual presentes nos vinhos?**\n",
    "\n",
    "- Vamos analisar a frequência de cada valor de açúcar residual na base de dados para entender como essa característica está distribuída entre as amostras."
   ]
  },
  {
   "cell_type": "code",
   "execution_count": 10,
   "id": "88270050",
   "metadata": {},
   "outputs": [
    {
     "name": "stdout",
     "output_type": "stream",
     "text": [
      "Distribuição dos níveis de açúcar residual:\n"
     ]
    },
    {
     "data": {
      "application/vnd.microsoft.datawrangler.viewer.v0+json": {
       "columns": [
        {
         "name": "acucar_residual",
         "rawType": "float64",
         "type": "float"
        },
        {
         "name": "count",
         "rawType": "int64",
         "type": "integer"
        }
       ],
       "ref": "139145bc-c97b-464e-bd62-f0ecd74a3422",
       "rows": [
        [
         "12.4",
         "14"
        ],
        [
         "8.6",
         "13"
        ],
        [
         "12.1",
         "13"
        ],
        [
         "7.1",
         "13"
        ],
        [
         "4.3",
         "12"
        ],
        [
         "7.6",
         "12"
        ],
        [
         "8.5",
         "12"
        ],
        [
         "13.1",
         "12"
        ],
        [
         "12.6",
         "12"
        ],
        [
         "13.6",
         "11"
        ],
        [
         "7.0",
         "11"
        ],
        [
         "0.9",
         "10"
        ],
        [
         "6.4",
         "10"
        ],
        [
         "4.0",
         "10"
        ],
        [
         "1.1",
         "10"
        ],
        [
         "1.7",
         "10"
        ],
        [
         "14.4",
         "10"
        ],
        [
         "7.8",
         "10"
        ],
        [
         "4.5",
         "10"
        ],
        [
         "4.6",
         "10"
        ],
        [
         "7.9",
         "10"
        ],
        [
         "7.4",
         "10"
        ],
        [
         "11.2",
         "10"
        ],
        [
         "5.5",
         "10"
        ],
        [
         "14.0",
         "10"
        ],
        [
         "13.7",
         "10"
        ],
        [
         "6.6",
         "9"
        ],
        [
         "2.8",
         "9"
        ],
        [
         "4.7",
         "9"
        ],
        [
         "6.3",
         "9"
        ],
        [
         "2.1",
         "9"
        ],
        [
         "6.7",
         "9"
        ],
        [
         "13.8",
         "9"
        ],
        [
         "10.4",
         "9"
        ],
        [
         "3.7",
         "9"
        ],
        [
         "12.2",
         "9"
        ],
        [
         "5.9",
         "9"
        ],
        [
         "0.6",
         "9"
        ],
        [
         "3.1",
         "9"
        ],
        [
         "2.0",
         "8"
        ],
        [
         "6.5",
         "8"
        ],
        [
         "0.8",
         "8"
        ],
        [
         "8.0",
         "8"
        ],
        [
         "1.2",
         "8"
        ],
        [
         "1.3",
         "8"
        ],
        [
         "12.7",
         "8"
        ],
        [
         "13.2",
         "8"
        ],
        [
         "10.7",
         "8"
        ],
        [
         "5.8",
         "8"
        ],
        [
         "14.7",
         "8"
        ]
       ],
       "shape": {
        "columns": 1,
        "rows": 145
       }
      },
      "text/plain": [
       "acucar_residual\n",
       "12.4    14\n",
       "8.6     13\n",
       "12.1    13\n",
       "7.1     13\n",
       "4.3     12\n",
       "        ..\n",
       "9.7      2\n",
       "1.9      2\n",
       "1.5      2\n",
       "15.0     1\n",
       "10.5     1\n",
       "Name: count, Length: 145, dtype: int64"
      ]
     },
     "execution_count": 10,
     "metadata": {},
     "output_type": "execute_result"
    }
   ],
   "source": [
    "print(\"Distribuição dos níveis de açúcar residual:\")\n",
    "df['acucar_residual'].value_counts()"
   ]
  },
  {
   "cell_type": "markdown",
   "id": "f3b285cb",
   "metadata": {},
   "source": [
    "**Quais são os níveis e a distribuição de teor alcoólico presentes nos vinhos?**\n",
    "\n",
    "- Vamos analisar a frequência de cada valor de teor alcoólico na base de dados para entender como essa característica está distribuída entre as amostras."
   ]
  },
  {
   "cell_type": "code",
   "execution_count": 11,
   "id": "73a430c7",
   "metadata": {},
   "outputs": [
    {
     "name": "stdout",
     "output_type": "stream",
     "text": [
      "\n",
      "Distribuição dos níveis de teor alcoólico:\n"
     ]
    },
    {
     "data": {
      "application/vnd.microsoft.datawrangler.viewer.v0+json": {
       "columns": [
        {
         "name": "alcool",
         "rawType": "float64",
         "type": "float"
        },
        {
         "name": "count",
         "rawType": "int64",
         "type": "integer"
        }
       ],
       "ref": "d4a2ab2e-e0ca-4a45-9535-649468012b64",
       "rows": [
        [
         "9.9",
         "25"
        ],
        [
         "8.5",
         "24"
        ],
        [
         "9.4",
         "24"
        ],
        [
         "13.4",
         "23"
        ],
        [
         "13.2",
         "23"
        ],
        [
         "12.5",
         "23"
        ],
        [
         "10.3",
         "22"
        ],
        [
         "9.2",
         "22"
        ],
        [
         "10.4",
         "22"
        ],
        [
         "9.5",
         "21"
        ],
        [
         "13.8",
         "21"
        ],
        [
         "9.8",
         "20"
        ],
        [
         "11.2",
         "20"
        ],
        [
         "12.8",
         "19"
        ],
        [
         "13.7",
         "19"
        ],
        [
         "8.2",
         "19"
        ],
        [
         "13.6",
         "19"
        ],
        [
         "10.8",
         "19"
        ],
        [
         "13.1",
         "19"
        ],
        [
         "12.4",
         "19"
        ],
        [
         "12.1",
         "19"
        ],
        [
         "11.1",
         "18"
        ],
        [
         "13.0",
         "18"
        ],
        [
         "8.1",
         "18"
        ],
        [
         "10.5",
         "18"
        ],
        [
         "11.9",
         "18"
        ],
        [
         "13.9",
         "18"
        ],
        [
         "11.5",
         "18"
        ],
        [
         "12.9",
         "17"
        ],
        [
         "11.4",
         "17"
        ],
        [
         "8.7",
         "17"
        ],
        [
         "8.9",
         "17"
        ],
        [
         "13.5",
         "17"
        ],
        [
         "10.7",
         "17"
        ],
        [
         "8.6",
         "16"
        ],
        [
         "8.4",
         "15"
        ],
        [
         "10.2",
         "15"
        ],
        [
         "12.2",
         "15"
        ],
        [
         "8.3",
         "15"
        ],
        [
         "10.1",
         "14"
        ],
        [
         "11.8",
         "14"
        ],
        [
         "12.0",
         "14"
        ],
        [
         "11.0",
         "14"
        ],
        [
         "11.7",
         "14"
        ],
        [
         "10.6",
         "13"
        ],
        [
         "10.0",
         "13"
        ],
        [
         "13.3",
         "13"
        ],
        [
         "12.6",
         "13"
        ],
        [
         "11.6",
         "12"
        ],
        [
         "12.7",
         "12"
        ]
       ],
       "shape": {
        "columns": 1,
        "rows": 61
       }
      },
      "text/plain": [
       "alcool\n",
       "9.9     25\n",
       "8.5     24\n",
       "9.4     24\n",
       "13.4    23\n",
       "13.2    23\n",
       "        ..\n",
       "8.8     10\n",
       "8.0      9\n",
       "9.0      8\n",
       "11.3     8\n",
       "14.0     5\n",
       "Name: count, Length: 61, dtype: int64"
      ]
     },
     "execution_count": 11,
     "metadata": {},
     "output_type": "execute_result"
    }
   ],
   "source": [
    "print(\"\\nDistribuição dos níveis de teor alcoólico:\")\n",
    "df['alcool'].value_counts()"
   ]
  },
  {
   "cell_type": "markdown",
   "id": "66d45f94",
   "metadata": {},
   "source": [
    "**Quais são os níveis e a distribuição de densidade presentes nos vinhos?**\n",
    "\n",
    "- Vamos analisar a frequência de cada valor de densidade na base de dados para entender como essa característica está distribuída entre as amostras."
   ]
  },
  {
   "cell_type": "code",
   "execution_count": 12,
   "id": "9a72d415",
   "metadata": {},
   "outputs": [
    {
     "name": "stdout",
     "output_type": "stream",
     "text": [
      "\n",
      "Distribuição dos níveis de densidade:\n"
     ]
    },
    {
     "data": {
      "application/vnd.microsoft.datawrangler.viewer.v0+json": {
       "columns": [
        {
         "name": "densidade",
         "rawType": "float64",
         "type": "float"
        },
        {
         "name": "count",
         "rawType": "int64",
         "type": "integer"
        }
       ],
       "ref": "43bfb28a-70f9-4dc2-9aee-5996bab1aa10",
       "rows": [
        [
         "1.0007",
         "13"
        ],
        [
         "1.0017",
         "13"
        ],
        [
         "1.0035",
         "13"
        ],
        [
         "0.9941",
         "12"
        ],
        [
         "0.9945",
         "11"
        ],
        [
         "0.994",
         "11"
        ],
        [
         "0.9942",
         "11"
        ],
        [
         "1.0038",
         "11"
        ],
        [
         "1.0025",
         "11"
        ],
        [
         "1.0043",
         "11"
        ],
        [
         "1.0008",
         "10"
        ],
        [
         "0.9957",
         "10"
        ],
        [
         "0.9981",
         "10"
        ],
        [
         "0.9949",
         "10"
        ],
        [
         "0.993",
         "10"
        ],
        [
         "0.9932",
         "10"
        ],
        [
         "0.9968",
         "10"
        ],
        [
         "1.0034",
         "10"
        ],
        [
         "0.9918",
         "10"
        ],
        [
         "0.995",
         "9"
        ],
        [
         "0.9938",
         "9"
        ],
        [
         "1.0002",
         "9"
        ],
        [
         "1.0048",
         "9"
        ],
        [
         "1.001",
         "9"
        ],
        [
         "0.9922",
         "9"
        ],
        [
         "0.9958",
         "9"
        ],
        [
         "0.9925",
         "9"
        ],
        [
         "1.0046",
         "9"
        ],
        [
         "0.9902",
         "9"
        ],
        [
         "0.9974",
         "9"
        ],
        [
         "1.004",
         "9"
        ],
        [
         "0.9991",
         "9"
        ],
        [
         "0.9973",
         "9"
        ],
        [
         "0.9988",
         "9"
        ],
        [
         "0.9934",
         "9"
        ],
        [
         "0.9953",
         "9"
        ],
        [
         "0.9959",
         "9"
        ],
        [
         "0.9955",
         "8"
        ],
        [
         "0.9909",
         "8"
        ],
        [
         "1.0012",
         "8"
        ],
        [
         "0.999",
         "8"
        ],
        [
         "0.9905",
         "8"
        ],
        [
         "1.0031",
         "8"
        ],
        [
         "0.9998",
         "8"
        ],
        [
         "1.0013",
         "8"
        ],
        [
         "0.9965",
         "8"
        ],
        [
         "0.9982",
         "8"
        ],
        [
         "0.9978",
         "8"
        ],
        [
         "1.0029",
         "8"
        ],
        [
         "0.9947",
         "8"
        ]
       ],
       "shape": {
        "columns": 1,
        "rows": 151
       }
      },
      "text/plain": [
       "densidade\n",
       "1.0007    13\n",
       "1.0017    13\n",
       "1.0035    13\n",
       "0.9941    12\n",
       "0.9945    11\n",
       "          ..\n",
       "0.9928     3\n",
       "1.0030     2\n",
       "0.9976     2\n",
       "1.0016     1\n",
       "1.0026     1\n",
       "Name: count, Length: 151, dtype: int64"
      ]
     },
     "execution_count": 12,
     "metadata": {},
     "output_type": "execute_result"
    }
   ],
   "source": [
    "print(\"\\nDistribuição dos níveis de densidade:\")\n",
    "df['densidade'].value_counts()"
   ]
  },
  {
   "cell_type": "markdown",
   "id": "9533c3b7",
   "metadata": {},
   "source": [
    "**Como está distribuída a classificação de qualidade dos vinhos?**\n",
    "\n",
    "- Vamos analisar a frequência de cada classe de qualidade do vinho para entender a distribuição das categorias baixa, média e alta."
   ]
  },
  {
   "cell_type": "code",
   "execution_count": 14,
   "id": "638e66d2",
   "metadata": {},
   "outputs": [
    {
     "name": "stdout",
     "output_type": "stream",
     "text": [
      "\n",
      "Distribuição das classes de qualidade do vinho:\n"
     ]
    },
    {
     "data": {
      "application/vnd.microsoft.datawrangler.viewer.v0+json": {
       "columns": [
        {
         "name": "rotulo_qualidade",
         "rawType": "object",
         "type": "string"
        },
        {
         "name": "count",
         "rawType": "int64",
         "type": "integer"
        }
       ],
       "ref": "da714c71-3fcb-4cb1-ba03-f136bc42da1e",
       "rows": [
        [
         "medium",
         "355"
        ],
        [
         "high",
         "343"
        ],
        [
         "low",
         "302"
        ]
       ],
       "shape": {
        "columns": 1,
        "rows": 3
       }
      },
      "text/plain": [
       "rotulo_qualidade\n",
       "medium    355\n",
       "high      343\n",
       "low       302\n",
       "Name: count, dtype: int64"
      ]
     },
     "execution_count": 14,
     "metadata": {},
     "output_type": "execute_result"
    }
   ],
   "source": [
    "print(\"\\nDistribuição das classes de qualidade do vinho:\")\n",
    "df['rotulo_qualidade'].value_counts()"
   ]
  },
  {
   "cell_type": "markdown",
   "id": "e5d0965d",
   "metadata": {},
   "source": [
    "##### Vamos calcular média das principais características químicas dos vinhos."
   ]
  },
  {
   "cell_type": "code",
   "execution_count": 18,
   "id": "7347222d",
   "metadata": {},
   "outputs": [
    {
     "name": "stdout",
     "output_type": "stream",
     "text": [
      "Média de acidez fixa: 10.174299999999999\n"
     ]
    }
   ],
   "source": [
    "print(\"Média de acidez fixa:\", df['acidez_fixa'].mean())"
   ]
  },
  {
   "cell_type": "code",
   "execution_count": 16,
   "id": "319c90ce",
   "metadata": {},
   "outputs": [
    {
     "name": "stdout",
     "output_type": "stream",
     "text": [
      "Média de açúcar residual: 7.692\n"
     ]
    }
   ],
   "source": [
    "print(\"Média de açúcar residual:\", df['acucar_residual'].mean())"
   ]
  },
  {
   "cell_type": "code",
   "execution_count": 17,
   "id": "01a99a3e",
   "metadata": {},
   "outputs": [
    {
     "name": "stdout",
     "output_type": "stream",
     "text": [
      "Média de teor alcoólico: 11.0399\n"
     ]
    }
   ],
   "source": [
    "print(\"Média de teor alcoólico:\", df['alcool'].mean())"
   ]
  },
  {
   "cell_type": "code",
   "execution_count": 19,
   "id": "d5c67f8b",
   "metadata": {},
   "outputs": [
    {
     "name": "stdout",
     "output_type": "stream",
     "text": [
      "Média de densidade: 0.9975049\n"
     ]
    }
   ],
   "source": [
    "print(\"Média de densidade:\", df['densidade'].mean())"
   ]
  },
  {
   "cell_type": "markdown",
   "id": "cea472db",
   "metadata": {},
   "source": [
    "##### Gerando gráficos para análise dessas informações:"
   ]
  },
  {
   "cell_type": "code",
   "execution_count": 40,
   "id": "3f60f3ad",
   "metadata": {},
   "outputs": [
    {
     "data": {
      "image/png": "[encoded data removed]",
      "text/plain": [
       "<Figure size 1000x600 with 1 Axes>"
      ]
     },
     "metadata": {},
     "output_type": "display_data"
    }
   ],
   "source": [
    "# Importando a biblioteca matplotlib para visualização\n",
    "import matplotlib.pyplot as plt\n",
    "\n",
    "# Criando a distribuição de acidez fixa com grafico de barras\n",
    "plt.figure(figsize=(10, 6))\n",
    "df['acidez_fixa'].plot(kind='hist', bins=30, color='skyblue', edgecolor='black')\n",
    "plt.title('Distribuição de Acidez Fixa Presente nos Vinhos')\n",
    "plt.xlabel('Acidez Fixa')\n",
    "plt.ylabel('Frequência')\n",
    "plt.grid(axis='y')\n",
    "plt.show()\n"
   ]
  },
  {
   "cell_type": "code",
   "execution_count": 35,
   "id": "c8630571",
   "metadata": {},
   "outputs": [
    {
     "data": {
      "image/png": "[encoded data removed]",
      "text/plain": [
       "<Figure size 1000x600 with 1 Axes>"
      ]
     },
     "metadata": {},
     "output_type": "display_data"
    }
   ],
   "source": [
    "# Criando a distribuição de açúcar residual com gráfico de barras\n",
    "\n",
    "plt.figure(figsize=(10, 6))\n",
    "df['acucar_residual'].plot(kind='hist', bins=30, color='salmon', edgecolor='black')\n",
    "plt.title('Distribuição de Açúcar Residual Presente nos Vinhos')\n",
    "plt.xlabel('Açúcar Residual')\n",
    "plt.ylabel('Frequência')\n",
    "plt.grid(axis='y')\n",
    "plt.show()\n"
   ]
  },
  {
   "cell_type": "code",
   "execution_count": 37,
   "id": "d852263e",
   "metadata": {},
   "outputs": [
    {
     "data": {
      "image/png": "[encoded data removed]",
      "text/plain": [
       "<Figure size 1000x600 with 1 Axes>"
      ]
     },
     "metadata": {},
     "output_type": "display_data"
    }
   ],
   "source": [
    "# Criando a distribuição de teor alcoólico em gráfico de barras\n",
    "\n",
    "plt.figure(figsize=(10, 6))\n",
    "df['alcool'].value_counts().plot(kind='bar', color='lightgreen', edgecolor='black')\n",
    "plt.title('Distribuição de Teor Alcoólico Presente nos Vinhos')\n",
    "plt.xlabel('Teor Alcoólico')\n",
    "plt.ylabel('Frequência')\n",
    "plt.grid(axis='y')\n",
    "plt.show()\n"
   ]
  },
  {
   "cell_type": "code",
   "execution_count": 44,
   "id": "3fb5d0b5",
   "metadata": {},
   "outputs": [
    {
     "data": {
      "image/png": "[encoded data removed]",
      "text/plain": [
       "<Figure size 1000x600 with 1 Axes>"
      ]
     },
     "metadata": {},
     "output_type": "display_data"
    }
   ],
   "source": [
    "# Criando a distribuição de densidade em gráfico de barras\n",
    "plt.figure(figsize=(10, 6))\n",
    "df['densidade'].plot(kind='hist', bins=30, color='lightcoral', edgecolor='black')\n",
    "plt.title('Distribuição de Densidade Presente nos Vinhos')\n",
    "plt.xlabel('Densidade')\n",
    "plt.ylabel('Frequência')\n",
    "plt.grid(axis='y')\n",
    "plt.show()\n"
   ]
  },
  {
   "cell_type": "markdown",
   "id": "0a23d74a",
   "metadata": {},
   "source": [
    "**Importante!** Algumas variáveis são do tipo \"object\". Precisarmos fazer uma transformação para a representação numérica antes de executar uma técnica de Aprendizado de Máquina"
   ]
  },
  {
   "cell_type": "code",
   "execution_count": 45,
   "id": "adc3562b",
   "metadata": {},
   "outputs": [
    {
     "name": "stdout",
     "output_type": "stream",
     "text": [
      "Mapeamento de 'Rótulos de qualidade': {'high': np.int64(0), 'low': np.int64(1), 'medium': np.int64(2)}\n"
     ]
    }
   ],
   "source": [
    "# Importar método de tranformar automaticamente os dados\n",
    "from sklearn.preprocessing import LabelEncoder\n",
    "\n",
    "encoder = LabelEncoder()\n",
    "df['rotulo_qualidade'] = encoder.fit_transform(df['rotulo_qualidade'])\n",
    "\n",
    "# Exemplo de como recuperar o mapeamento feito pelo método LabelEncoder()\n",
    "mapeamento_formacao = dict(zip(encoder.classes_, encoder.transform(encoder.classes_)))\n",
    "print(\"Mapeamento de 'Rótulos de qualidade':\", mapeamento_formacao)"
   ]
  },
  {
   "cell_type": "code",
   "execution_count": 46,
   "id": "364e15a0",
   "metadata": {},
   "outputs": [
    {
     "data": {
      "application/vnd.microsoft.datawrangler.viewer.v0+json": {
       "columns": [
        {
         "name": "index",
         "rawType": "int64",
         "type": "integer"
        },
        {
         "name": "acidez_fixa",
         "rawType": "float64",
         "type": "float"
        },
        {
         "name": "acucar_residual",
         "rawType": "float64",
         "type": "float"
        },
        {
         "name": "alcool",
         "rawType": "float64",
         "type": "float"
        },
        {
         "name": "densidade",
         "rawType": "float64",
         "type": "float"
        },
        {
         "name": "rotulo_qualidade",
         "rawType": "int64",
         "type": "integer"
        }
       ],
       "ref": "a1248542-48ec-4b10-97e1-563afddbd18d",
       "rows": [
        [
         "0",
         "9.3",
         "6.4",
         "13.6",
         "1.0005",
         "0"
        ],
        [
         "1",
         "11.2",
         "2.0",
         "14.0",
         "0.9912",
         "2"
        ],
        [
         "2",
         "11.6",
         "0.9",
         "8.2",
         "0.9935",
         "1"
        ],
        [
         "3",
         "12.9",
         "6.6",
         "12.7",
         "1.0002",
         "1"
        ],
        [
         "4",
         "13.9",
         "13.8",
         "10.4",
         "0.9942",
         "2"
        ]
       ],
       "shape": {
        "columns": 5,
        "rows": 5
       }
      },
      "text/html": [
       "<div>\n",
       "<style scoped>\n",
       "    .dataframe tbody tr th:only-of-type {\n",
       "        vertical-align: middle;\n",
       "    }\n",
       "\n",
       "    .dataframe tbody tr th {\n",
       "        vertical-align: top;\n",
       "    }\n",
       "\n",
       "    .dataframe thead th {\n",
       "        text-align: right;\n",
       "    }\n",
       "</style>\n",
       "<table border=\"1\" class=\"dataframe\">\n",
       "  <thead>\n",
       "    <tr style=\"text-align: right;\">\n",
       "      <th></th>\n",
       "      <th>acidez_fixa</th>\n",
       "      <th>acucar_residual</th>\n",
       "      <th>alcool</th>\n",
       "      <th>densidade</th>\n",
       "      <th>rotulo_qualidade</th>\n",
       "    </tr>\n",
       "  </thead>\n",
       "  <tbody>\n",
       "    <tr>\n",
       "      <th>0</th>\n",
       "      <td>9.3</td>\n",
       "      <td>6.4</td>\n",
       "      <td>13.6</td>\n",
       "      <td>1.0005</td>\n",
       "      <td>0</td>\n",
       "    </tr>\n",
       "    <tr>\n",
       "      <th>1</th>\n",
       "      <td>11.2</td>\n",
       "      <td>2.0</td>\n",
       "      <td>14.0</td>\n",
       "      <td>0.9912</td>\n",
       "      <td>2</td>\n",
       "    </tr>\n",
       "    <tr>\n",
       "      <th>2</th>\n",
       "      <td>11.6</td>\n",
       "      <td>0.9</td>\n",
       "      <td>8.2</td>\n",
       "      <td>0.9935</td>\n",
       "      <td>1</td>\n",
       "    </tr>\n",
       "    <tr>\n",
       "      <th>3</th>\n",
       "      <td>12.9</td>\n",
       "      <td>6.6</td>\n",
       "      <td>12.7</td>\n",
       "      <td>1.0002</td>\n",
       "      <td>1</td>\n",
       "    </tr>\n",
       "    <tr>\n",
       "      <th>4</th>\n",
       "      <td>13.9</td>\n",
       "      <td>13.8</td>\n",
       "      <td>10.4</td>\n",
       "      <td>0.9942</td>\n",
       "      <td>2</td>\n",
       "    </tr>\n",
       "  </tbody>\n",
       "</table>\n",
       "</div>"
      ],
      "text/plain": [
       "   acidez_fixa  acucar_residual  alcool  densidade  rotulo_qualidade\n",
       "0          9.3              6.4    13.6     1.0005                 0\n",
       "1         11.2              2.0    14.0     0.9912                 2\n",
       "2         11.6              0.9     8.2     0.9935                 1\n",
       "3         12.9              6.6    12.7     1.0002                 1\n",
       "4         13.9             13.8    10.4     0.9942                 2"
      ]
     },
     "execution_count": 46,
     "metadata": {},
     "output_type": "execute_result"
    }
   ],
   "source": [
    "df.head()"
   ]
  },
  {
   "cell_type": "code",
   "execution_count": 47,
   "id": "7682bdfb",
   "metadata": {},
   "outputs": [
    {
     "data": {
      "application/vnd.microsoft.datawrangler.viewer.v0+json": {
       "columns": [
        {
         "name": "index",
         "rawType": "object",
         "type": "string"
        },
        {
         "name": "0",
         "rawType": "object",
         "type": "unknown"
        }
       ],
       "ref": "fe95168c-0d9c-423a-9228-fbf24c9af7c3",
       "rows": [
        [
         "acidez_fixa",
         "float64"
        ],
        [
         "acucar_residual",
         "float64"
        ],
        [
         "alcool",
         "float64"
        ],
        [
         "densidade",
         "float64"
        ],
        [
         "rotulo_qualidade",
         "int64"
        ]
       ],
       "shape": {
        "columns": 1,
        "rows": 5
       }
      },
      "text/plain": [
       "acidez_fixa         float64\n",
       "acucar_residual     float64\n",
       "alcool              float64\n",
       "densidade           float64\n",
       "rotulo_qualidade      int64\n",
       "dtype: object"
      ]
     },
     "execution_count": 47,
     "metadata": {},
     "output_type": "execute_result"
    }
   ],
   "source": [
    "# Verificar se todas as variaveis são numéricas\n",
    "df.dtypes"
   ]
  },
  {
   "cell_type": "markdown",
   "id": "3477f419",
   "metadata": {},
   "source": [
    "Agora irei salvar a base de dados limpa:"
   ]
  },
  {
   "cell_type": "code",
   "execution_count": 48,
   "id": "41988796",
   "metadata": {},
   "outputs": [
    {
     "name": "stdout",
     "output_type": "stream",
     "text": [
      "Arquivo transformado salvo em: ../dados/dados_transformados.csv\n"
     ]
    }
   ],
   "source": [
    "# Salvar o DataFrame transformado em um novo arquivo CSV\n",
    "caminho_arquivo = '../dados/dados_transformados.csv'\n",
    "df.to_csv(caminho_arquivo, index=False, encoding='utf-8-sig')\n",
    "\n",
    "print(f\"Arquivo transformado salvo em: {caminho_arquivo}\")"
   ]
  }
 ],
 "metadata": {
  "kernelspec": {
   "display_name": ".venv",
   "language": "python",
   "name": "python3"
  },
  "language_info": {
   "codemirror_mode": {
    "name": "ipython",
    "version": 3
   },
   "file_extension": ".py",
   "mimetype": "text/x-python",
   "name": "python",
   "nbconvert_exporter": "python",
   "pygments_lexer": "ipython3",
   "version": "3.11.9"
  }
 },
 "nbformat": 4,
 "nbformat_minor": 5
}
