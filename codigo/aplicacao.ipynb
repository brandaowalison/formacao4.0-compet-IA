{
 "cells": [
  {
   "cell_type": "code",
   "execution_count": 11,
   "id": "cf7a9c21",
   "metadata": {},
   "outputs": [],
   "source": [
    "import pickle\n",
    "import pandas as pd\n",
    "\n",
    "# Carregando o modelo\n",
    "with open('../modelo/modelo_treinado.pkl', 'rb') as f:\n",
    "    modelo = pickle.load(f)\n",
    "\n",
    "# Coluna usadas durante o treinamento\n",
    "colunas_modelo = ['acidez_fixa', 'acucar_residual', 'alcool', 'densidade', 'rotulo_qualidade']"
   ]
  },
  {
   "cell_type": "code",
   "execution_count": 12,
   "id": "a4343f20",
   "metadata": {},
   "outputs": [],
   "source": [
    "def prever_qualidade_vinho(Acidez_Fixa, Acucar_Residual, Alcool, Densidade, Rotulo_Qualidade):\n",
    "    # Criando um DataFrame com os dados de entrada\n",
    "\n",
    "    # Dicionários de mapeamento (Categórico para numérico, pois o modelo só exerga números)\n",
    "    map_Rotulo_Qualidade = {\n",
    "        'alta': 0,\n",
    "        'baixa': 1,\n",
    "        'media': 2\n",
    "    }\n",
    "\n",
    "    # Criando um DataFrame com os dados de entrada (conversando categórico para numérico)\n",
    "\n",
    "    dados = pd.DataFrame({\n",
    "        'acidez_fixa': [Acidez_Fixa],\n",
    "        'acucar_residual': [Acucar_Residual],\n",
    "        'alcool': [Alcool],\n",
    "        'densidade': [Densidade],\n",
    "    })\n",
    "\n",
    "    # Fazer a predição\n",
    "    predicao = modelo.predict(dados)[0]\n",
    "    return f\"Vinho de qualidade {predicao} (0 = baixa, 1 = média, 2 = alta)\""
   ]
  },
  {
   "cell_type": "code",
   "execution_count": 13,
   "id": "d8ce96e5",
   "metadata": {},
   "outputs": [
    {
     "name": "stderr",
     "output_type": "stream",
     "text": [
      "c:\\Users\\walis\\Documents\\formacao4.0-compet-IA\\.venv\\Lib\\site-packages\\gradio\\utils.py:1023: UserWarning: Expected 5 arguments for function <function prever_qualidade_vinho at 0x000002BC337609A0>, received 4.\n",
      "  warnings.warn(\n",
      "c:\\Users\\walis\\Documents\\formacao4.0-compet-IA\\.venv\\Lib\\site-packages\\gradio\\utils.py:1027: UserWarning: Expected at least 5 arguments for function <function prever_qualidade_vinho at 0x000002BC337609A0>, received 4.\n",
      "  warnings.warn(\n"
     ]
    },
    {
     "name": "stdout",
     "output_type": "stream",
     "text": [
      "* Running on local URL:  http://127.0.0.1:7863\n",
      "\n",
      "Could not create share link. Please check your internet connection or our status page: https://status.gradio.app.\n"
     ]
    },
    {
     "data": {
      "text/html": [
       "<div><iframe src=\"http://127.0.0.1:7863/\" width=\"100%\" height=\"500\" allow=\"autoplay; camera; microphone; clipboard-read; clipboard-write;\" frameborder=\"0\" allowfullscreen></iframe></div>"
      ],
      "text/plain": [
       "<IPython.core.display.HTML object>"
      ]
     },
     "metadata": {},
     "output_type": "display_data"
    },
    {
     "data": {
      "text/plain": []
     },
     "execution_count": 13,
     "metadata": {},
     "output_type": "execute_result"
    },
    {
     "name": "stderr",
     "output_type": "stream",
     "text": [
      "c:\\Users\\walis\\Documents\\formacao4.0-compet-IA\\.venv\\Lib\\site-packages\\gradio\\helpers.py:978: UserWarning: Unexpected argument. Filling with None.\n",
      "  warnings.warn(\"Unexpected argument. Filling with None.\")\n"
     ]
    }
   ],
   "source": [
    "import gradio as gr # Importando a biblioteca Gardio para criar a interface gráficas simples em Python\n",
    "\n",
    "# Definindo as opções para os campos categóricos\n",
    "opcoes_rotulo_qualidade = ['alta', 'baixa', 'media'] # Opcao de rotulo de qualidade\n",
    "\n",
    "# Crinando a interface com o Gardio usando blocos\n",
    "with gr.Blocks() as app:\n",
    "    gr.Markdown(\"Previsão de Qualidade do Vinho\") # Título da aplicação\n",
    "\n",
    "    # Primeira linha com dropdown e campo numérico\n",
    "    with gr.Row():\n",
    "        Acidez_Fixa = gr.Number(label=\"Acidez Fixa\") # Campo numérico para acidez fixa\n",
    "        Acucar_Residual = gr.Number(label=\"Açúcar Residual\") # Campo numérico para açúcar residual\n",
    "    # Segunda linha com dropdown e campo numérico\n",
    "    with gr.Row():\n",
    "        Alcool = gr.Number(label=\"Álcool\") # Campo numérico para teor alcoólico\n",
    "        Densidade = gr.Number(label=\"Densidade\") # Campo numérico para densidade\n",
    "\n",
    "    # Botão para fazer a previsão\n",
    "    btn = gr.Button(\"Prever\")\n",
    "\n",
    "    # Saída para mostrar o resultado da previsão\n",
    "    output = gr.Label(label=\"Resultado\")\n",
    "\n",
    "    # Definindo a ação do botão\n",
    "    # Chamando a função 'prever_qualidade_vinho' passando os inputs e exibindo a saída no label\n",
    "    btn.click(\n",
    "        fn=prever_qualidade_vinho,\n",
    "        inputs=[Acidez_Fixa, Acucar_Residual, Alcool, Densidade],\n",
    "        outputs=output\n",
    "    )\n",
    "\n",
    "# Iniciando a aplicação com um link compartilhável\n",
    "app.launch(share=True)"
   ]
  },
  {
   "cell_type": "code",
   "execution_count": 14,
   "id": "2dbf143d",
   "metadata": {},
   "outputs": [],
   "source": [
    "# Exemplos de valores para testar a aplicação Gradio:\n",
    "# \n",
    "# Exemplo 1:\n",
    "#   Acidez Fixa: 7.0\n",
    "#   Açúcar Residual: 5.5\n",
    "#   Álcool: 12.0\n",
    "#   Densidade: 0.995\n",
    "#\n",
    "# Exemplo 2:\n",
    "#   Acidez Fixa: 6.2\n",
    "#   Açúcar Residual: 3.1\n",
    "#   Álcool: 10.5\n",
    "#   Densidade: 0.990\n",
    "#\n",
    "# Exemplo 3:\n",
    "#   Acidez Fixa: 8.1\n",
    "#   Açúcar Residual: 7.0\n",
    "#   Álcool: 9.8\n",
    "#   Densidade: 1.002\n",
    "#\n",
    "# Basta preencher esses valores na interface e clicar em \"Prever\" para ver o resultado!"
   ]
  }
 ],
 "metadata": {
  "kernelspec": {
   "display_name": ".venv",
   "language": "python",
   "name": "python3"
  },
  "language_info": {
   "codemirror_mode": {
    "name": "ipython",
    "version": 3
   },
   "file_extension": ".py",
   "mimetype": "text/x-python",
   "name": "python",
   "nbconvert_exporter": "python",
   "pygments_lexer": "ipython3",
   "version": "3.11.9"
  }
 },
 "nbformat": 4,
 "nbformat_minor": 5
}
